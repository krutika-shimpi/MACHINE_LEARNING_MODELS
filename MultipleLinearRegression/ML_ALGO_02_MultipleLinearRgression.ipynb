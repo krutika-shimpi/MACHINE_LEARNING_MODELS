{
  "nbformat": 4,
  "nbformat_minor": 0,
  "metadata": {
    "colab": {
      "provenance": []
    },
    "kernelspec": {
      "name": "python3",
      "display_name": "Python 3"
    },
    "language_info": {
      "name": "python"
    }
  },
  "cells": [
    {
      "cell_type": "markdown",
      "source": [
        "#*`02: Multiple Linear Regression`*\n",
        "\n",
        "## What is Multiple Linear Regression?\n",
        "Multiple Linear Regression a statistical technique that uses *multiple independent variables* to predict the outcome of a dependent variable. It is an extention of Simple Linear Regression.\n",
        "\n",
        "* Multiple regression is an extension of linear (OLS) regression that uses just one explanatory variable.\n",
        "* MLR is used extensively in econometrics and financial inference.\n",
        "\n",
        "\\\n",
        "\\\n",
        "**Formula for Multiple Linear Regression**:\n",
        "\n",
        "$$\n",
        "y_i = \\beta_0 + \\beta_1X_1 + \\beta_2X_2 + ........ + \\beta_nX_n\n",
        "$$\n",
        "\n",
        "Above formula can also be written as:\n",
        "\n",
        "$$\n",
        "y_i = \\beta_0 + \\sum_{i=a}^{n} \\beta_i X_i\n",
        "$$\n",
        "\n",
        "```\n",
        "where,\n",
        "\n",
        " for i=n observations\n",
        "\n",
        " yi = dependent variable\n",
        "\n",
        " xi = explanatory variables\n",
        "\n",
        " β0 = y-intercept (constant term)\n",
        "\n",
        " βn = slope coefficients for each explanatory variable\n",
        "```\n",
        "\n",
        "\\\n",
        "### Understanding MLR\n",
        "\\\n",
        "To get a better idea about the Multiple Linear Regression, let's take an example with fewer columns.\n",
        "\n",
        "Consider the below data where the students have prioritized certain number of hours in a day for studies :\n",
        "\n",
        "\n",
        "| |No. of Hours | IQ | Marks(out of 100) |\n",
        "| --- | --- | --- | --- |\n",
        "| stud1 | 4 | 100 | 93.4 |\n",
        "| stud2 | 2 | 100 | 76.5 |\n",
        "| stud3 | 6 | 100 | 85.2 |\n",
        "\n",
        "\\\n",
        "The equation for this data would be as follows:\n",
        "\n",
        "\\\n",
        "$$\n",
        "Marks_i = \\beta_0 + \\beta_1 * no.of hours + \\beta_2 * IQ ......(1)\n",
        "$$\n",
        "\n",
        "\\\n",
        "`student1` gets the highest marks by studying only for 4 hours whereas `student3` studied for 6 long hours and all the students have same IQ. We are able to compare only on the `no. hours factor` there is only one column to explain the results.\n",
        "\n",
        "\\\n",
        "Now consider below data where we added the `no. of days` column that represents the number of days before they started preparing for the exam:\n",
        "\n",
        "| | No. of days | No. of Hours | IQ | Marks(out of 100) |\n",
        "| --- | --- | --- | --- | --- |\n",
        "| stud1 | 9 | 4 | 100 | 93.4 |\n",
        "| stud2 | 5 | 2 | 100 | 76.5 |\n",
        "| stud3 | 1 | 6 | 100 | 85.2 |\n",
        "\n",
        "\\\n",
        "The equation for this data would be as follows:\n",
        "\n",
        "\\\n",
        "$$\n",
        "Marks_i = \\beta_0 + \\beta_1 * no.ofdays + \\beta2 * no.of hours + \\beta_3 * IQ ......(2)\n",
        "$$\n",
        "\n",
        "\\\n",
        ">If we consider above data, though all the students have same IQ, `student1` got better marks. Also, `student3` studied for just one day for 6 hours and earned better marks than `student2` who started preparations 5 days before exam. The influence of each column is represented by the $\\beta$ coefficients.\n",
        "\n",
        "***Higher values of $\\beta$ against a variable means that it contributed more towards predicting an outcome.***\n",
        "\n",
        "\\\n",
        "This data explains that, different features contribute differently in order to predict the final value. A single attribute may not be able to explain whole output by itself. And so, the algorithm tries to find the best values of **`β`** coefficients and thats what the regression problem aims to solve.\n",
        "\n",
        "Let's calculate for equation $(2)$:\n",
        "\n",
        "\\\n",
        "$$\n",
        "y_{hat} = \\beta_0 + \\beta_1 * X_1 + \\beta_2 * X_2 + \\beta_3 * X_3\n",
        "$$\n",
        "\n",
        "\\\n",
        "Where, $X_1$ = no. of days, $X_2$ = no.of hours, $X_3$ = IQ\n",
        "\n",
        "\\\n",
        "$y_{hat}$ will be calculated for each student, let's represent it in the matrix form as follows:\n",
        "\n",
        "$$\n",
        "y_{hat} = \\beta  X\n",
        "$$\n",
        "\n",
        "$y_{hat}$ for each student will be represented as follows:\n",
        "\n",
        "$$\n",
        "y_{hat_1} = X_{11}\\beta_1 + X_{12}\\beta_2 + X_{13}\\beta_3 + \\beta_0\n",
        "$$\n",
        "$$\n",
        "y_{hat_2} = X_{21}\\beta_1 + X_{22}\\beta_2 + X_{23}\\beta_3 + \\beta_0\n",
        "$$\n",
        "$$\n",
        "y_{hat_3} = X_{31}\\beta_1 + X_{32}\\beta_2 + X_{33}\\beta_3 + \\beta_0\n",
        "$$\n",
        "\n",
        "\\\n",
        "And hence it can be represented as follows:\n",
        "\n",
        "$$\n",
        "y_{hat} = \\begin{bmatrix}\n",
        "y_{hat_1}  \\\\\n",
        "y_{hat_2}  \\\\\n",
        "y_{hat_3}\n",
        "\\end{bmatrix}_{(3*1)}\n",
        "=\n",
        "\\begin{bmatrix}\n",
        "1 & X_{11} & X_{12} & X_{13} \\\\\n",
        "1 & X_{21} & X_{22} & X_{23} \\\\\n",
        "1 & X_{31} & X_{32} & X_{33}\n",
        "\\end{bmatrix}_{(3*4)}\n",
        "*\n",
        "\\begin{bmatrix}\n",
        "\\beta_0  \\\\\n",
        "\\beta_1  \\\\\n",
        "\\beta_2  \\\\\n",
        "\\beta_3\n",
        "\\end{bmatrix}_{(4 * 1)}\n",
        "$$\n",
        "\n",
        "The dot product of the matrices with following dimensions would be:\n",
        "$(3*4) . (4*1) = (3*1)$\n",
        "\n",
        "And since we are trying to establish a relationship as follows, therefore we add 1 in our $X$ matrix:\n",
        "\n",
        "\\\n",
        "$y_{hat} = \\beta_0 + [X.\\beta]$\n",
        "\n",
        "\\\n",
        "We got the above equations when no. of independent variables were 3. Similarly, we can extend this for `m` no of features and `n` no. of rows as follows:\n",
        "\n",
        "$$\n",
        "y_{hat} = \\begin{bmatrix}\n",
        "y_{hat_1}  \\\\\n",
        "y_{hat_2}  \\\\\n",
        ". \\\\\n",
        ". \\\\\n",
        ". \\\\\n",
        "y_{hat_n}\n",
        "\\end{bmatrix}_{(n*1)}\n",
        "=\n",
        "\\begin{bmatrix}\n",
        "1 & X_{11} & X_{12} & ... & X_{1m} \\\\\n",
        "1 & X_{21} & X_{22} & ... & X_{2m} \\\\\n",
        ". & . & . & . & . \\\\\n",
        ". & . & . & . & .  \\\\\n",
        ". & . & . & . & .  \\\\\n",
        "1 & X_{n1} & X_{n2} & ... & X_{nm}\n",
        "\\end{bmatrix}_{(n*m)}\n",
        "*\n",
        "\\begin{bmatrix}\n",
        "\\beta_0  \\\\\n",
        "\\beta_1  \\\\\n",
        "\\beta_2  \\\\\n",
        ". \\\\\n",
        ". \\\\\n",
        ". \\\\\n",
        "\\beta_m\n",
        "\\end{bmatrix}_{(m * 1)}\n",
        "$$\n",
        "\n",
        "Now that we have the final equation lets try to replicate this by building our own Multiple Regression class."
      ],
      "metadata": {
        "id": "g4C3kHKM9fzm"
      }
    },
    {
      "cell_type": "markdown",
      "source": [
        "## Making Custom Multiple Linear Regression Class"
      ],
      "metadata": {
        "id": "4rnMLpGTBy-L"
      }
    },
    {
      "cell_type": "code",
      "source": [
        "# Let's build a class for Multiple Linear Regression\n",
        "class MultipleLinearRegression:\n",
        "  def __init__(self):\n",
        "      self.coef_ = None\n",
        "      self.intercept_ = None\n",
        "\n",
        "  def fit(self, x, y):\n",
        "    # Create matrix consisting of 1 and merge it with the input matrix x\n",
        "      ones_column = np.ones((x.shape[0], 1))\n",
        "      x = np.hstack((ones_column, x))\n",
        "\n",
        "      # calculate the coeffs\n",
        "      beta_coef = np.linalg.inv(x.T.dot(x)).dot(x.T).dot(y)\n",
        "      self.intercept_ = beta_coef[0] # First value of beta_coef would be the bias term β0\n",
        "      self.coef_ = beta_coef[1:]\n",
        "\n",
        "  def predict(self,x):\n",
        "    # Create a predict method to make future predictions\n",
        "      y_pred = np.dot(x,self.coef_) + self.intercept_\n",
        "      return y_pred"
      ],
      "metadata": {
        "id": "ef4_gWFSBzGW"
      },
      "execution_count": 1,
      "outputs": []
    },
    {
      "cell_type": "code",
      "source": [
        "# Import necessary libraries\n",
        "from sklearn.datasets import make_regression\n",
        "import pandas as pd\n",
        "import numpy as np\n",
        "import matplotlib.pyplot as plt\n",
        "from sklearn.linear_model import LinearRegression"
      ],
      "metadata": {
        "id": "AR1FLEVxBzXu"
      },
      "execution_count": 4,
      "outputs": []
    },
    {
      "cell_type": "markdown",
      "source": [
        "## Make regression data"
      ],
      "metadata": {
        "id": "xrMiXwOtBzOO"
      }
    },
    {
      "cell_type": "code",
      "source": [
        "# make a regression dataset using 10 features\n",
        "X, y = make_regression(n_samples = 500,\n",
        "                       n_features = 10,\n",
        "                       n_informative = 7,\n",
        "                       n_targets = 1,\n",
        "                       noise = 1)"
      ],
      "metadata": {
        "id": "IlnZjD0qHQvT"
      },
      "execution_count": 15,
      "outputs": []
    },
    {
      "cell_type": "code",
      "source": [
        "X.shape, y.shape"
      ],
      "metadata": {
        "colab": {
          "base_uri": "https://localhost:8080/"
        },
        "id": "StL7wZ4HH8vY",
        "outputId": "e7c74fe5-2fb3-48b2-d8a9-ce067d0b2b68"
      },
      "execution_count": 16,
      "outputs": [
        {
          "output_type": "execute_result",
          "data": {
            "text/plain": [
              "((500, 10), (500,))"
            ]
          },
          "metadata": {},
          "execution_count": 16
        }
      ]
    },
    {
      "cell_type": "markdown",
      "source": [
        "## Scikit-Learn: LinearRegression class"
      ],
      "metadata": {
        "id": "chkWdiwcIQ99"
      }
    },
    {
      "cell_type": "code",
      "source": [
        "# set random seed for reproducibility\n",
        "np.random.seed(42)\n",
        "\n",
        "# Instantiate an object of Linear Regression model\n",
        "LR = LinearRegression()\n",
        "\n",
        "# Fit the model\n",
        "LR.fit(X, y)\n",
        "\n",
        "# Make predictions on the model\n",
        "y_preds = LR.predict(X)"
      ],
      "metadata": {
        "id": "Wd6pVvzfIU4p"
      },
      "execution_count": 17,
      "outputs": []
    },
    {
      "cell_type": "code",
      "source": [
        "# Calculate r2 score\n",
        "from sklearn.metrics import r2_score\n",
        "r2_score(y_true = y, y_pred = y_preds)"
      ],
      "metadata": {
        "colab": {
          "base_uri": "https://localhost:8080/"
        },
        "id": "pTZ37RRhJQeu",
        "outputId": "b9ae4b84-6369-4d31-dae1-a7cb4427bfa6"
      },
      "execution_count": 18,
      "outputs": [
        {
          "output_type": "execute_result",
          "data": {
            "text/plain": [
              "0.9999166546936376"
            ]
          },
          "metadata": {},
          "execution_count": 18
        }
      ]
    },
    {
      "cell_type": "markdown",
      "source": [
        "## Custom Linear Regression class"
      ],
      "metadata": {
        "id": "QIzFMN_QJnJR"
      }
    },
    {
      "cell_type": "code",
      "source": [
        "# set random seed for reproducibility\n",
        "np.random.seed(42)\n",
        "\n",
        "# Instantiate an object of Linear Regression model\n",
        "my_LR = MultipleLinearRegression()\n",
        "\n",
        "# Fit the model\n",
        "my_LR.fit(X, y)\n",
        "\n",
        "# Make predictions on the model\n",
        "y_preds_my_lr = my_LR.predict(X)"
      ],
      "metadata": {
        "id": "G16_KRzNJfPZ"
      },
      "execution_count": 19,
      "outputs": []
    },
    {
      "cell_type": "code",
      "source": [
        "# Calculate r2 Score\n",
        "r2_score(y, y_preds_my_lr)"
      ],
      "metadata": {
        "colab": {
          "base_uri": "https://localhost:8080/"
        },
        "id": "3VBKPzoHJ01X",
        "outputId": "33461ae2-1827-4ae4-9c80-a2e8a9882f71"
      },
      "execution_count": 20,
      "outputs": [
        {
          "output_type": "execute_result",
          "data": {
            "text/plain": [
              "0.9999166546936376"
            ]
          },
          "metadata": {},
          "execution_count": 20
        }
      ]
    },
    {
      "cell_type": "code",
      "source": [],
      "metadata": {
        "id": "-C5wpH4eJ5sr"
      },
      "execution_count": null,
      "outputs": []
    }
  ]
}