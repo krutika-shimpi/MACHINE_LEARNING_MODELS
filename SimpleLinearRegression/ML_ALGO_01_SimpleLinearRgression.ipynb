{
  "nbformat": 4,
  "nbformat_minor": 0,
  "metadata": {
    "colab": {
      "provenance": []
    },
    "kernelspec": {
      "name": "python3",
      "display_name": "Python 3"
    },
    "language_info": {
      "name": "python"
    }
  },
  "cells": [
    {
      "cell_type": "markdown",
      "source": [
        "# Machine Learning Algorithms from scratch::\n",
        "##*`01: Simple Linear Regression`*\n",
        "\n",
        "## What is a Regression Problem?\n",
        "In the realm of statistical analysis, regression serves as a methodological approach aimed at forecasting the value of a dependent variable denoted as 'y', based upon the values exhibited by one or more independent variables represented by 'X'.\n",
        "For instance, one might use regression to ascertain the anticipated marks a student could get based on the number of hours spent studying.\n",
        "\n",
        "### What is Linear Regression?\n",
        "\n",
        "Linear Regression is a way to predict the relationship between two varibles by assuming a linear connection between the independent and dependent variables.\n",
        "* It looks for an optimal line that minimizes the sum of squared differences between predicted and actual values.\n",
        "* It is a Supervised Machine Learning Algorithm. It takes labelled data as its input to predict the output.\n",
        "* Regression is employed to predict continuous values for a dependent variable 'y'.\n",
        "\n",
        ">Linear regression has the following types:\n",
        ">1. Simple Linear Regression\n",
        ">2. Multiple Linear Regression\n",
        ">3. Polynomial Linear Regression\n",
        "\n",
        "\n",
        "####**INTUITION: Simple linear regression**\n",
        "\n",
        "In `Simple Linear regression` there is only 1 independent variable on which the target variable depends.\n",
        "\n",
        "From above definition, linear regression tries to establish a linear relationship between dependent and independent variable. The way it does this is by using the equation of line given as follows:\n",
        "\n",
        "\n",
        "##**$y = $m$x + $b**\n",
        "\n",
        "Where,\n",
        "> y = dependent/target variable : Variable to predict\n",
        "\n",
        "> x = independent variable : Factor which affects 'y'\n",
        "\n",
        "> b = intercept/offset\n",
        "\n",
        "> m = slope / weightage : It means how much does `y` depends on 'x' or is influenced by 'x'. If value of `m (slope)` is more, then a unit change in x will cause greater change in y.\n",
        "\n",
        "\n",
        "Now that we have got some intuition about the algorithm let's try to replicate the LinearRegression class of Sklearn using python."
      ],
      "metadata": {
        "id": "95DgcVTeZSep"
      }
    },
    {
      "cell_type": "code",
      "source": [
        "# Let's build our own class and try to replicate Sklearn's LinearRegression class\n",
        "class SimpleLinearRegression():\n",
        "\n",
        "  # Define a constructor and initialize the values of slope and intercept to 0\n",
        "  def __init__(self):\n",
        "    self.slope_ = 0\n",
        "    self.intercept_ = 0\n",
        "\n",
        "  # In fit function, we will calculate the slope and intercept\n",
        "  def fit(self, x, y):\n",
        "    # Calculate the mean of x and y\n",
        "    x_mean = x.mean()\n",
        "    y_mean = y.mean()\n",
        "    numerator = 0\n",
        "    denominator = 0\n",
        "\n",
        "    for i in range(x.shape[0]):\n",
        "      numerator = numerator + ((x[i] - x_mean) * (y[i] - y_mean))\n",
        "      denominator = denominator + ((x[i] - x_mean)**2)\n",
        "\n",
        "    self.slope_ = numerator / denominator\n",
        "    self.intercept_ = y_mean - (self.slope_ * x_mean)\n",
        "\n",
        "  def predict(self, x):\n",
        "    return (self.slope_ * x) + self.intercept_"
      ],
      "metadata": {
        "id": "Yp3L2e78ZSbv"
      },
      "execution_count": 286,
      "outputs": []
    }
  ]
}