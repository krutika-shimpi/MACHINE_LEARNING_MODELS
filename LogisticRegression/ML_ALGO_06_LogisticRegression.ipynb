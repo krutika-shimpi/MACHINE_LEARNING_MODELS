{
  "nbformat": 4,
  "nbformat_minor": 0,
  "metadata": {
    "colab": {
      "provenance": []
    },
    "kernelspec": {
      "name": "python3",
      "display_name": "Python 3"
    },
    "language_info": {
      "name": "python"
    }
  },
  "cells": [
    {
      "cell_type": "markdown",
      "source": [
        "# *`06_LogisticRegression`*\n",
        "\n",
        "Logistic regression is a predictive analysis that estimates the probability of an event occurring based on a given dataset. This dataset contains both independent variables, or predictors, and their corresponding dependent variables, or responses.\n",
        "\n",
        "* This is a classification algorithm.\n",
        "* The data for Logistic regression should be linearly separable or almost linearly separable because you draw a line to perform classification.\n",
        "\n",
        "#### The Perceptron Trick\n",
        "Suppose we have a data as shown below.\n",
        "<IMAGE>\n",
        "\n",
        "In Logistic Regression as well you try to draw a line to separate two classes. The equation line in 2D is given for Logistic Regression is:\n",
        "\n",
        "$$\n",
        "AX_1 + BX_2 + C = 0\n",
        "$$\n",
        "\n",
        "For 3D:\n",
        "\\\n",
        "$$\n",
        "AX_1 + BX_2 + CX_3 + D = 0\n",
        "$$\n",
        "\n",
        "**Steps:**\n",
        "<image>\n",
        "\n",
        "\n",
        "* red points (negative region)\n",
        "* green points (positive region)\n",
        "\n",
        "You start with a random line at first\n",
        "A = B = 1, C = 0\n",
        "\\\n",
        "\n",
        "1. Mark all the points lying in the positive region as green.\n",
        "2. Run a loop for $n$ times.\n",
        "3. Then simply select a random point.\n",
        "4. Check if the point was Green or Red originally. If the point is Green you push line away from the point. If the point is Red you pull the line close to that point.\n",
        "5. Repeat the process until you reach the best fit.\n",
        "\n",
        "### How to select the Positive and Negative region?\n",
        "Let's say your equation for line is:\n",
        "\n",
        "$6x + 4y + 3 = 0$\n",
        "\n",
        "So, points greater than equation will be positive region. And points lesser than equation will be negative region.\n",
        "\n",
        "### Transformations\n",
        "\n",
        "$$\n",
        "AX + BY + C = 0\n",
        "$$\n",
        "\n",
        "* $A$ is changing like this:\n",
        "<image>\n",
        "\n",
        "* $B$ is changing as:\n",
        "<image>\n",
        "\n",
        "* $C$ moves:\n",
        "<image>\n",
        "\n",
        "The magnitude by which the line gets pushed or pull depends on the distance of the line from the point.\n",
        "\n",
        "**CASES**\n",
        "* **case1**: Missclassified point close to line: Will **`pull`** the line slowly.\n",
        "* **case2**: Missclassified point away from line: Will **`pull`** the line strongly.\n",
        "* **case3**: Correctly classified point close to line: Will **`push`** the line strongly.\n",
        "* **case4**: Correctly classified point away from line: Will **`push`** the line slowly.\n",
        "\n",
        "\\\n",
        "**Example:**\n",
        "\n",
        "$$w_{new} = w_{old} ++ \\eta (y_i - y_{hat_i})(x_i)$$\n",
        "\n",
        "where $y_i$ = actual,\n",
        "$y_{hat_i}$ = pred,\n",
        "$w_{new}$ = Updated weights,\n",
        "$w_{old}$ = old\n",
        "\n",
        "\\\n",
        "\n",
        "| actual | pred | actual - pred | $w_{new}$ |\n",
        "| --- | --- | --- | --- |\n",
        "| 1 | 1 | 0     | $w_o$ |\n",
        "| 0 | 0 | 0     | $w_o$ |\n",
        "| 1 | 0 | 0     | $w_o + \\eta(x_i)$ |\n",
        "| 0 | 1 | -1    | $w_o - \\eta(x_i)$ |\n",
        "\n",
        "\\\n",
        "We have to stop $(y_i - y_{hat_i})$ from becoming $0$.\n",
        "\n",
        "$(y_i - y_{hat_i}) \\neq 0$\n",
        "\n",
        "$y_i$ cannot be changed since its input data. But we can change $y_{hat_i}$. We saw we calculate $y_{hat_i}$ by:\n",
        "\n",
        "$ y_{hat} = \\sum w_i x_i$\n",
        "\n",
        "We can't be using step function since it outputs only to 1 or 0. We need to use some other function so that $y_i - y_{hat_i} \\neq 0$.\n",
        "\n",
        "Sigmoid function:\n",
        "$$\\sigma_{(z)} = \\frac {1}{1+e^-z}$$\n",
        "\n",
        "No matter how big of a number we provide, it will scale it down between 0 and 1.\n",
        "\n",
        "$z = w_1x_1 + w_2x_2 + w_0\\\\\n",
        "y_{hat_i} = \\sigma(z)$\n",
        "\n",
        "Sigmoid will a probabilistic interpretation of the data points.\n",
        "\n",
        "\n"
      ],
      "metadata": {
        "id": "RxfVWj39Fqk3"
      }
    },
    {
      "cell_type": "code",
      "source": [
        "import numpy as np\n",
        "import pandas as pd\n",
        "import matplotlib.pyplot as plt\n",
        "import random"
      ],
      "metadata": {
        "id": "01hkNmztWNcm"
      },
      "execution_count": 1,
      "outputs": []
    },
    {
      "cell_type": "code",
      "source": [
        "# Define the sigmoid function\n",
        "def sigmoid(z):\n",
        "  return 1/(1 + np.exp(-z))"
      ],
      "metadata": {
        "id": "PGyGTgDBWINp"
      },
      "execution_count": 15,
      "outputs": []
    },
    {
      "cell_type": "code",
      "source": [
        "# Implement the class for Logistic regression\n",
        "class LogisticRegression:\n",
        "  def __init__(self, learning_rate, epochs = 100):\n",
        "    self.coef_ = None\n",
        "    self.intercept_ = None\n",
        "    self.eta = learning_rate\n",
        "    self.epochs = epochs\n",
        "\n",
        "  def fit(self, x, y):\n",
        "    ones = np.ones((x.shape[0], 1))  # Create a column of ones for intercept\n",
        "    x_with_ones = np.hstack((ones, x))  # Horizontally stack ones with x\n",
        "    weights = np.ones(x_with_ones.shape[1])  # Initialize weights with ones\n",
        "\n",
        "    for _ in range(self.epochs):\n",
        "        idx = np.random.randint(0, x.shape[0])\n",
        "        y_hat = sigmoid(np.dot(x_with_ones[idx], weights))\n",
        "        weights = weights + self.eta * (y[idx] - y_hat) * x_with_ones[idx]\n",
        "\n",
        "    self.intercept_ = weights[0]\n",
        "    self.coef_ = weights[1:]\n",
        "\n",
        "  def predict(self, x):\n",
        "    return np.dot(x, self.coef_) + self.intercept_"
      ],
      "metadata": {
        "id": "Hb1pJHmBUyzR"
      },
      "execution_count": 25,
      "outputs": []
    },
    {
      "cell_type": "code",
      "source": [
        "from sklearn.datasets import make_classification\n",
        "import numpy as np\n",
        "X, y = make_classification(n_samples=100, n_features=2, n_informative=1,n_redundant=0,\n",
        "                           n_classes=2, n_clusters_per_class=1, random_state=41,hypercube=False,class_sep=30)\n",
        "import matplotlib.pyplot as plt\n",
        "plt.figure(figsize=(10,6))\n",
        "plt.scatter(X[:,0],X[:,1],c=y,cmap='winter',s=100);"
      ],
      "metadata": {
        "colab": {
          "base_uri": "https://localhost:8080/",
          "height": 522
        },
        "id": "aK9WVwMkWGjB",
        "outputId": "31681819-591e-4ba0-fd6d-6c4823e9b146"
      },
      "execution_count": 12,
      "outputs": [
        {
          "output_type": "display_data",
          "data": {
            "text/plain": [
              "<Figure size 1000x600 with 1 Axes>"
            ],
            "image/png": "[encoded data removed]"
          },
          "metadata": {}
        }
      ]
    },
    {
      "cell_type": "code",
      "source": [
        "log_reg = LogisticRegression(learning_rate = 0.001, epochs = 1000)\n",
        "\n",
        "log_reg.fit(X, y)\n",
        "\n",
        "print(log_reg.coef_)\n",
        "print(log_reg.intercept_)"
      ],
      "metadata": {
        "colab": {
          "base_uri": "https://localhost:8080/"
        },
        "id": "6VB52yJMXzna",
        "outputId": "33b5a436-d31d-4625-ab81-343818a61a36"
      },
      "execution_count": 26,
      "outputs": [
        {
          "output_type": "stream",
          "name": "stdout",
          "text": [
            "[1.10216293 0.94187657]\n",
            "1.05840934776502\n"
          ]
        }
      ]
    },
    {
      "cell_type": "code",
      "source": [
        "  def fit(self, x, y):\n",
        "    ones = np.ones((x.shape[0], 1))  # Create a column of ones for intercept\n",
        "    x_with_ones = np.hstack((ones, x))  # Horizontally stack ones with x\n",
        "    weights = np.ones(x_with_ones.shape[1])  # Initialize weights with ones\n",
        "\n",
        "    for _ in range(self.epochs):\n",
        "        idx = np.random.randint(0, x.shape[0])\n",
        "        y_hat = sigmoid(np.dot(x_with_ones[idx], weights))\n",
        "        weights = weights + self.eta * (y[idx] - y_hat) * x_with_ones[idx]"
      ],
      "metadata": {
        "id": "deMBCNEec8Ly"
      },
      "execution_count": null,
      "outputs": []
    },
    {
      "cell_type": "code",
      "source": [
        "def gd(x,y):\n",
        "\n",
        "  ones = np.ones((x.shape[0], 1))  # Create a column of ones for intercept\n",
        "  x_with_ones = np.hstack((ones, x))  # Horizontally stack ones with x\n",
        "  weights = np.ones(x_with_ones.shape[1])  # Initialize weights with ones\n",
        "  lr = 0.5\n",
        "\n",
        "  for _ in range(5000):\n",
        "    y_hat = sigmoid(np.dot(x_with_ones, weights))\n",
        "    weights = weights + lr * ( np.dot((y - y_hat), x_with_ones) / x.shape[0])\n",
        "\n",
        "  return weights[1:],weights[0]"
      ],
      "metadata": {
        "id": "GxbKb-QvYXrs"
      },
      "execution_count": 37,
      "outputs": []
    },
    {
      "cell_type": "code",
      "source": [
        "gd(X,y)"
      ],
      "metadata": {
        "colab": {
          "base_uri": "https://localhost:8080/"
        },
        "id": "alPfRwiVcEpq",
        "outputId": "ba77739b-65c4-427a-8699-91e531baaf56"
      },
      "execution_count": 38,
      "outputs": [
        {
          "output_type": "execute_result",
          "data": {
            "text/plain": [
              "(array([3.47974267, 0.13305072]), 5.102916648814875)"
            ]
          },
          "metadata": {},
          "execution_count": 38
        }
      ]
    },
    {
      "cell_type": "code",
      "source": [],
      "metadata": {
        "id": "o7HMxMtrcG17"
      },
      "execution_count": null,
      "outputs": []
    }
  ]
}